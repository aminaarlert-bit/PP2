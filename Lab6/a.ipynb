{
 "cells": [
  {
   "cell_type": "markdown",
   "id": "202b7616",
   "metadata": {},
   "source": [
    "Multiply all numbers in a list using built-in function"
   ]
  },
  {
   "cell_type": "code",
   "execution_count": 2,
   "id": "c9d9d02e",
   "metadata": {},
   "outputs": [],
   "source": [
    "import math\n",
    "import time\n",
    "def multiply_list(numbers):\n",
    "    return math.prod(numbers)"
   ]
  }
 ],
 "metadata": {
  "kernelspec": {
   "display_name": "Python 3",
   "language": "python",
   "name": "python3"
  },
  "language_info": {
   "codemirror_mode": {
    "name": "ipython",
    "version": 3
   },
   "file_extension": ".py",
   "mimetype": "text/x-python",
   "name": "python",
   "nbconvert_exporter": "python",
   "pygments_lexer": "ipython3",
   "version": "3.13.7"
  }
 },
 "nbformat": 4,
 "nbformat_minor": 5
}
